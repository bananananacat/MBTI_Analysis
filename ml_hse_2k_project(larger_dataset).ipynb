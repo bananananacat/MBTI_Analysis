{
  "nbformat": 4,
  "nbformat_minor": 0,
  "metadata": {
    "colab": {
      "provenance": [],
      "gpuType": "T4"
    },
    "kernelspec": {
      "name": "python3",
      "display_name": "Python 3"
    },
    "language_info": {
      "name": "python"
    },
    "accelerator": "GPU"
  },
  "cells": [
    {
      "cell_type": "code",
      "execution_count": null,
      "metadata": {
        "id": "1BN6CWa0_3JE"
      },
      "outputs": [],
      "source": [
        "!kaggle datasets download -d datasnaek/mbti-type\n",
        "!unzip mbti-type.zip\n",
        "!pip install catboost\n",
        "!pip install xgboost"
      ]
    },
    {
      "cell_type": "code",
      "source": [
        "import re\n",
        "import csv\n",
        "import string\n",
        "import pickle\n",
        "import collections\n",
        "import pandas as pd\n",
        "import matplotlib.pyplot as plt\n",
        "import seaborn as sns\n",
        "\n",
        "import nltk\n",
        "from nltk.tokenize import word_tokenize\n",
        "from nltk.corpus import stopwords\n",
        "from nltk.stem import SnowballStemmer\n",
        "from nltk.stem import WordNetLemmatizer\n",
        "from nltk.stem.porter import *\n",
        "\n",
        "from catboost import CatBoostClassifier\n",
        "from xgboost import XGBClassifier\n",
        "\n",
        "from sklearn.feature_extraction.text import TfidfVectorizer\n",
        "from sklearn.model_selection import train_test_split\n",
        "from sklearn.metrics import f1_score, confusion_matrix\n",
        "from sklearn.pipeline import Pipeline\n",
        "from sklearn.model_selection import GridSearchCV\n",
        "from sklearn.ensemble import RandomForestClassifier\n",
        "from sklearn.linear_model import LogisticRegression\n",
        "from sklearn.exceptions import ConvergenceWarning\n",
        "from sklearn.utils._testing import ignore_warnings\n",
        "\n",
        "\n",
        "nltk.download('wordnet')\n",
        "nltk.download('punkt')"
      ],
      "metadata": {
        "id": "LWViTpwAApwJ"
      },
      "execution_count": null,
      "outputs": []
    },
    {
      "cell_type": "code",
      "source": [
        "!unzip data/personalitycafe/test.zip -d data/personalitycafe"
      ],
      "metadata": {
        "id": "7TVMNTY_EU4N"
      },
      "execution_count": null,
      "outputs": []
    },
    {
      "cell_type": "markdown",
      "source": [
        "Making map from types to ints and vice versa"
      ],
      "metadata": {
        "id": "4fu-xPPUBupL"
      }
    },
    {
      "cell_type": "code",
      "source": [
        "mbti_map = dict(\n",
        "    zip(\n",
        "        [\n",
        "            \"ISTJ\", \"ISFJ\", \"INFJ\", \"INTJ\", \"ISTP\", \"ISFP\", \"INFP\", \"INTP\",\n",
        "            \"ESTP\", \"ESFP\", \"ENFP\", \"ENTP\", \"ESTJ\", \"ESFJ\", \"ENFJ\", \"ENTJ\"\n",
        "        ],\n",
        "        range(16)\n",
        "    )\n",
        ")\n",
        "\n",
        "reverse_mbti_map = dict(zip(mbti_map.values(), mbti_map.keys()))"
      ],
      "metadata": {
        "id": "_42yIpQBByfO"
      },
      "execution_count": 26,
      "outputs": []
    },
    {
      "cell_type": "markdown",
      "source": [
        "Uploading datasets"
      ],
      "metadata": {
        "id": "QeRtHY5oCx3D"
      }
    },
    {
      "cell_type": "code",
      "source": [
        "# first dataset from kaggle.com/datasets/datasnaek/mbti-type\n",
        "data1 = pd.read_csv(\"data/mbti_1.csv\")\n",
        "\n",
        "# second dataset have been parsed from personalitycafe.com sub-forums\n",
        "dataset = []\n",
        "\n",
        "for mbti_type in mbti_map.keys():\n",
        "    with open(f\"data/personalitycafe/{mbti_type}.txt\", 'r') as f:\n",
        "        content = f.read()\n",
        "        # removing multiple whitespaces and \\n\n",
        "        content = \" \".join(re.split(\"\\s+\", content, flags=re.UNICODE))\n",
        "        # cutting into chunks, assuming, that 893 is an average single chunks length\n",
        "        chunks = [content[0+i:893+i] for i in range(0, len(content), 893)]\n",
        "        for chunk in chunks:\n",
        "            dataset += [{\"type\": mbti_type, \"posts\": chunk}]\n",
        "\n",
        "\n",
        "# dumping dataset to csv file\n",
        "# field names\n",
        "fields = ['type', 'posts']\n",
        "filename = \"additional_data.csv\"\n",
        "\n",
        "# writing to csv file\n",
        "with open(filename, 'w') as csvfile:\n",
        "    # creating a csv dict writer object\n",
        "    writer = csv.DictWriter(csvfile, fieldnames=fields)\n",
        "\n",
        "    # writing headers (field names)\n",
        "    writer.writeheader()\n",
        "\n",
        "    # writing data rows\n",
        "    writer.writerows(dataset)\n",
        "\n",
        "\n",
        "data2 = pd.read_csv(\"additional_data.csv\")\n",
        "\n",
        "# push these two into one dataset\n",
        "data = pd.concat([data1, data2], ignore_index=True)\n",
        "data.head()"
      ],
      "metadata": {
        "id": "XIocpoIPAtx6",
        "colab": {
          "base_uri": "https://localhost:8080/",
          "height": 207
        },
        "outputId": "45aaebed-2f12-40fd-9719-df8b48f2ff8e"
      },
      "execution_count": 4,
      "outputs": [
        {
          "output_type": "execute_result",
          "data": {
            "text/plain": [
              "   type                                              posts\n",
              "0  INFJ  'http://www.youtube.com/watch?v=qsXHcwe3krw|||...\n",
              "1  ENTP  'I'm finding the lack of me in these posts ver...\n",
              "2  INTP  'Good one  _____   https://www.youtube.com/wat...\n",
              "3  INTJ  'Dear INTP,   I enjoyed our conversation the o...\n",
              "4  ENTJ  'You're fired.|||That's another silly misconce..."
            ],
            "text/html": [
              "\n",
              "  <div id=\"df-2934676e-9368-46b7-b072-47ebffbd7ecb\" class=\"colab-df-container\">\n",
              "    <div>\n",
              "<style scoped>\n",
              "    .dataframe tbody tr th:only-of-type {\n",
              "        vertical-align: middle;\n",
              "    }\n",
              "\n",
              "    .dataframe tbody tr th {\n",
              "        vertical-align: top;\n",
              "    }\n",
              "\n",
              "    .dataframe thead th {\n",
              "        text-align: right;\n",
              "    }\n",
              "</style>\n",
              "<table border=\"1\" class=\"dataframe\">\n",
              "  <thead>\n",
              "    <tr style=\"text-align: right;\">\n",
              "      <th></th>\n",
              "      <th>type</th>\n",
              "      <th>posts</th>\n",
              "    </tr>\n",
              "  </thead>\n",
              "  <tbody>\n",
              "    <tr>\n",
              "      <th>0</th>\n",
              "      <td>INFJ</td>\n",
              "      <td>'http://www.youtube.com/watch?v=qsXHcwe3krw|||...</td>\n",
              "    </tr>\n",
              "    <tr>\n",
              "      <th>1</th>\n",
              "      <td>ENTP</td>\n",
              "      <td>'I'm finding the lack of me in these posts ver...</td>\n",
              "    </tr>\n",
              "    <tr>\n",
              "      <th>2</th>\n",
              "      <td>INTP</td>\n",
              "      <td>'Good one  _____   https://www.youtube.com/wat...</td>\n",
              "    </tr>\n",
              "    <tr>\n",
              "      <th>3</th>\n",
              "      <td>INTJ</td>\n",
              "      <td>'Dear INTP,   I enjoyed our conversation the o...</td>\n",
              "    </tr>\n",
              "    <tr>\n",
              "      <th>4</th>\n",
              "      <td>ENTJ</td>\n",
              "      <td>'You're fired.|||That's another silly misconce...</td>\n",
              "    </tr>\n",
              "  </tbody>\n",
              "</table>\n",
              "</div>\n",
              "    <div class=\"colab-df-buttons\">\n",
              "\n",
              "  <div class=\"colab-df-container\">\n",
              "    <button class=\"colab-df-convert\" onclick=\"convertToInteractive('df-2934676e-9368-46b7-b072-47ebffbd7ecb')\"\n",
              "            title=\"Convert this dataframe to an interactive table.\"\n",
              "            style=\"display:none;\">\n",
              "\n",
              "  <svg xmlns=\"http://www.w3.org/2000/svg\" height=\"24px\" viewBox=\"0 -960 960 960\">\n",
              "    <path d=\"M120-120v-720h720v720H120Zm60-500h600v-160H180v160Zm220 220h160v-160H400v160Zm0 220h160v-160H400v160ZM180-400h160v-160H180v160Zm440 0h160v-160H620v160ZM180-180h160v-160H180v160Zm440 0h160v-160H620v160Z\"/>\n",
              "  </svg>\n",
              "    </button>\n",
              "\n",
              "  <style>\n",
              "    .colab-df-container {\n",
              "      display:flex;\n",
              "      gap: 12px;\n",
              "    }\n",
              "\n",
              "    .colab-df-convert {\n",
              "      background-color: #E8F0FE;\n",
              "      border: none;\n",
              "      border-radius: 50%;\n",
              "      cursor: pointer;\n",
              "      display: none;\n",
              "      fill: #1967D2;\n",
              "      height: 32px;\n",
              "      padding: 0 0 0 0;\n",
              "      width: 32px;\n",
              "    }\n",
              "\n",
              "    .colab-df-convert:hover {\n",
              "      background-color: #E2EBFA;\n",
              "      box-shadow: 0px 1px 2px rgba(60, 64, 67, 0.3), 0px 1px 3px 1px rgba(60, 64, 67, 0.15);\n",
              "      fill: #174EA6;\n",
              "    }\n",
              "\n",
              "    .colab-df-buttons div {\n",
              "      margin-bottom: 4px;\n",
              "    }\n",
              "\n",
              "    [theme=dark] .colab-df-convert {\n",
              "      background-color: #3B4455;\n",
              "      fill: #D2E3FC;\n",
              "    }\n",
              "\n",
              "    [theme=dark] .colab-df-convert:hover {\n",
              "      background-color: #434B5C;\n",
              "      box-shadow: 0px 1px 3px 1px rgba(0, 0, 0, 0.15);\n",
              "      filter: drop-shadow(0px 1px 2px rgba(0, 0, 0, 0.3));\n",
              "      fill: #FFFFFF;\n",
              "    }\n",
              "  </style>\n",
              "\n",
              "    <script>\n",
              "      const buttonEl =\n",
              "        document.querySelector('#df-2934676e-9368-46b7-b072-47ebffbd7ecb button.colab-df-convert');\n",
              "      buttonEl.style.display =\n",
              "        google.colab.kernel.accessAllowed ? 'block' : 'none';\n",
              "\n",
              "      async function convertToInteractive(key) {\n",
              "        const element = document.querySelector('#df-2934676e-9368-46b7-b072-47ebffbd7ecb');\n",
              "        const dataTable =\n",
              "          await google.colab.kernel.invokeFunction('convertToInteractive',\n",
              "                                                    [key], {});\n",
              "        if (!dataTable) return;\n",
              "\n",
              "        const docLinkHtml = 'Like what you see? Visit the ' +\n",
              "          '<a target=\"_blank\" href=https://colab.research.google.com/notebooks/data_table.ipynb>data table notebook</a>'\n",
              "          + ' to learn more about interactive tables.';\n",
              "        element.innerHTML = '';\n",
              "        dataTable['output_type'] = 'display_data';\n",
              "        await google.colab.output.renderOutput(dataTable, element);\n",
              "        const docLink = document.createElement('div');\n",
              "        docLink.innerHTML = docLinkHtml;\n",
              "        element.appendChild(docLink);\n",
              "      }\n",
              "    </script>\n",
              "  </div>\n",
              "\n",
              "\n",
              "<div id=\"df-f58ba89c-84b8-4d45-ab94-f7f2ae6dc4dc\">\n",
              "  <button class=\"colab-df-quickchart\" onclick=\"quickchart('df-f58ba89c-84b8-4d45-ab94-f7f2ae6dc4dc')\"\n",
              "            title=\"Suggest charts\"\n",
              "            style=\"display:none;\">\n",
              "\n",
              "<svg xmlns=\"http://www.w3.org/2000/svg\" height=\"24px\"viewBox=\"0 0 24 24\"\n",
              "     width=\"24px\">\n",
              "    <g>\n",
              "        <path d=\"M19 3H5c-1.1 0-2 .9-2 2v14c0 1.1.9 2 2 2h14c1.1 0 2-.9 2-2V5c0-1.1-.9-2-2-2zM9 17H7v-7h2v7zm4 0h-2V7h2v10zm4 0h-2v-4h2v4z\"/>\n",
              "    </g>\n",
              "</svg>\n",
              "  </button>\n",
              "\n",
              "<style>\n",
              "  .colab-df-quickchart {\n",
              "      --bg-color: #E8F0FE;\n",
              "      --fill-color: #1967D2;\n",
              "      --hover-bg-color: #E2EBFA;\n",
              "      --hover-fill-color: #174EA6;\n",
              "      --disabled-fill-color: #AAA;\n",
              "      --disabled-bg-color: #DDD;\n",
              "  }\n",
              "\n",
              "  [theme=dark] .colab-df-quickchart {\n",
              "      --bg-color: #3B4455;\n",
              "      --fill-color: #D2E3FC;\n",
              "      --hover-bg-color: #434B5C;\n",
              "      --hover-fill-color: #FFFFFF;\n",
              "      --disabled-bg-color: #3B4455;\n",
              "      --disabled-fill-color: #666;\n",
              "  }\n",
              "\n",
              "  .colab-df-quickchart {\n",
              "    background-color: var(--bg-color);\n",
              "    border: none;\n",
              "    border-radius: 50%;\n",
              "    cursor: pointer;\n",
              "    display: none;\n",
              "    fill: var(--fill-color);\n",
              "    height: 32px;\n",
              "    padding: 0;\n",
              "    width: 32px;\n",
              "  }\n",
              "\n",
              "  .colab-df-quickchart:hover {\n",
              "    background-color: var(--hover-bg-color);\n",
              "    box-shadow: 0 1px 2px rgba(60, 64, 67, 0.3), 0 1px 3px 1px rgba(60, 64, 67, 0.15);\n",
              "    fill: var(--button-hover-fill-color);\n",
              "  }\n",
              "\n",
              "  .colab-df-quickchart-complete:disabled,\n",
              "  .colab-df-quickchart-complete:disabled:hover {\n",
              "    background-color: var(--disabled-bg-color);\n",
              "    fill: var(--disabled-fill-color);\n",
              "    box-shadow: none;\n",
              "  }\n",
              "\n",
              "  .colab-df-spinner {\n",
              "    border: 2px solid var(--fill-color);\n",
              "    border-color: transparent;\n",
              "    border-bottom-color: var(--fill-color);\n",
              "    animation:\n",
              "      spin 1s steps(1) infinite;\n",
              "  }\n",
              "\n",
              "  @keyframes spin {\n",
              "    0% {\n",
              "      border-color: transparent;\n",
              "      border-bottom-color: var(--fill-color);\n",
              "      border-left-color: var(--fill-color);\n",
              "    }\n",
              "    20% {\n",
              "      border-color: transparent;\n",
              "      border-left-color: var(--fill-color);\n",
              "      border-top-color: var(--fill-color);\n",
              "    }\n",
              "    30% {\n",
              "      border-color: transparent;\n",
              "      border-left-color: var(--fill-color);\n",
              "      border-top-color: var(--fill-color);\n",
              "      border-right-color: var(--fill-color);\n",
              "    }\n",
              "    40% {\n",
              "      border-color: transparent;\n",
              "      border-right-color: var(--fill-color);\n",
              "      border-top-color: var(--fill-color);\n",
              "    }\n",
              "    60% {\n",
              "      border-color: transparent;\n",
              "      border-right-color: var(--fill-color);\n",
              "    }\n",
              "    80% {\n",
              "      border-color: transparent;\n",
              "      border-right-color: var(--fill-color);\n",
              "      border-bottom-color: var(--fill-color);\n",
              "    }\n",
              "    90% {\n",
              "      border-color: transparent;\n",
              "      border-bottom-color: var(--fill-color);\n",
              "    }\n",
              "  }\n",
              "</style>\n",
              "\n",
              "  <script>\n",
              "    async function quickchart(key) {\n",
              "      const quickchartButtonEl =\n",
              "        document.querySelector('#' + key + ' button');\n",
              "      quickchartButtonEl.disabled = true;  // To prevent multiple clicks.\n",
              "      quickchartButtonEl.classList.add('colab-df-spinner');\n",
              "      try {\n",
              "        const charts = await google.colab.kernel.invokeFunction(\n",
              "            'suggestCharts', [key], {});\n",
              "      } catch (error) {\n",
              "        console.error('Error during call to suggestCharts:', error);\n",
              "      }\n",
              "      quickchartButtonEl.classList.remove('colab-df-spinner');\n",
              "      quickchartButtonEl.classList.add('colab-df-quickchart-complete');\n",
              "    }\n",
              "    (() => {\n",
              "      let quickchartButtonEl =\n",
              "        document.querySelector('#df-f58ba89c-84b8-4d45-ab94-f7f2ae6dc4dc button');\n",
              "      quickchartButtonEl.style.display =\n",
              "        google.colab.kernel.accessAllowed ? 'block' : 'none';\n",
              "    })();\n",
              "  </script>\n",
              "</div>\n",
              "    </div>\n",
              "  </div>\n"
            ],
            "application/vnd.google.colaboratory.intrinsic+json": {
              "type": "dataframe",
              "variable_name": "data",
              "summary": "{\n  \"name\": \"data\",\n  \"rows\": 9174,\n  \"fields\": [\n    {\n      \"column\": \"type\",\n      \"properties\": {\n        \"dtype\": \"category\",\n        \"num_unique_values\": 16,\n        \"samples\": [\n          \"INFJ\",\n          \"ENTP\",\n          \"ENFJ\"\n        ],\n        \"semantic_type\": \"\",\n        \"description\": \"\"\n      }\n    },\n    {\n      \"column\": \"posts\",\n      \"properties\": {\n        \"dtype\": \"string\",\n        \"num_unique_values\": 9166,\n        \"samples\": [\n          \"'Weird question but what is your work, I'm just curious :)|||To be honest, if someone asked me about lightbulb moments I wouldn't really be sure about whether or not I have them. I used to struggle with this idea which used to make me feel like I wasn't INFJ....|||I have a close friend, I think I would call him my best friend actually. During my initial discovery of MBTI I gained enough knowledge that I felt I understood my type and other types. After typing...|||I have a close friend, I think I would call him my best friend actually. During my initial discovery of MBTI I gained enough knowledge that I felt I understood my type and other types. After typing...|||Hmm I don't know. I would say I struggle with time management/organisation but that's because I'm pretty obsessed with time management, so I perhaps it's just a high standard - I'm actually alot more...|||I'm not sure if you misread meditation as medication lol. I avoid medication because I have a negative bias against drugs so it's okay. I really will make sure I don't get addicted.|||You guys gave really good feedback. All the input is a mixed variety of answers, which is perfect. I know I can be abit melodramatic but nobody played up on that - you guys are awesome, thanks alot...|||I hear ya, I always, always need something to do. Even when I'm ill - I should be doing something unless I'm sleeping. Not necessarily doing something, but moving towards something, so if I'm ill...|||Lol it's okay, that's exactly like something I would do :), infact I did this today.|||Symptoms=Impaired social interaction, impaired verbal and non-verbal communication, restricted and repetitive behavior Usual onset= By age two[1] I don't really recognise these basic symptoms of...|||You know it's funny, something just hit me.  All this time, I was under the impression when you hit the place of presence that everything is fine - not necessarily because you don't care anymore...|||Hmm that's interesting, the first I've heard of depersonalization. I can't say I feel anxious due to the thoughts, but like I said - the overwhelming nature of it can make me feel anxious so I...|||Sitting in my chair, sometimes listening to binaural beats, some times not. Usually I try not to over complicate it and just try focus on the breathe. Sometimes I try different meditation techniques...|||Can't say I'm feeling very enlightened|||120|||I know all of you aren't Psychologists lol but I just thought it would be good to get some input outside my own thoughts. My mind feels like it runs 100mph at times, it's sort of like my thoughts...|||Intp|||IxTP|||Yeah it's not so bad now, and I'm studying - I won't be working throughout the year so gotta make what I can now|||Hating the work that you do...what do I do argh, I need the money and I'm only working there for 4 more weeks but it's torturous|||https://www.youtube.com/watch?v=ak5V00GVD1g|||Superstar was such a good song man, yo did you also listen to 'little weapon'?? - it's on the same album.    https://www.youtube.com/watch?v=9rKmdRdNO7s|||INTJ   I like your signature, reminds me of the fourth hermetic principle - the principle of polarity Everything is dual, everything has poles, everything has it's pair of opposites; like and...|||Finally got my braces off|||Are you sure you don't want a hug from me when we meet up :)|||ENxP , leaning on ENFP|||The 'many' being simply that wherever I go across the internet about the MBTI, the dom-tert loop theory seems to be openly accepted. If it's brought up, it's rarely challenged so obviously to me it...|||Why is there no such thing as an Ni-Ti loop? Many say there is, and I believed there is, so I'm gonna have to read an explanation before I throw away that concept.|||I had another one of those moments again.. Sometimes I feel extreme nostalgia for places I've never been before. When I was young I was absolutley sure that it was an indicator of where I was during...|||Talking to a sensor type can be like...talking to anyone. Each person is an individual that is developed independently.|||https://www.youtube.com/watch?v=cwqtK2wSjpY|||Seems there is already 'Black'  Is it possible to change it to 'Baphomet' instead?|||Lol I had a stranger stop me today and talk to me about how well spoken I am, first time for everything. I never would have known either, stuff like that is really nice to here. Some people just...|||Change to 'Black' thank you|||I find myself in a different place moment to moment The changes are so frequent, I seem to forget who I was just before What was I thinking? the answer eludes me  I just want to hold on to...|||https://www.youtube.com/watch?v=IVTogKE25aQ  Archetypal stand up comedy might just be the next big thing.ufeff|||I'm naturally agreeable too but whenever I notice this indecisive-ness in a group, just for the sake of the group I notice I take charge and make a decision lol. Like watching movies,if people really...|||Currently having my first relationship with my ISFP :) Things are great, but ofcourse it's the start - things are supposed to be great. We were pretty much best friends for a year while she wasn't...|||Hey, you're type 4 too. Maybe that has something to do with it.|||I'm about to go to my part-time job. I work as a bartender. I have extreme anxiety during the hours leading up to work, everytime... Nothing actually goes wrong during work so the anxiety is...|||Dam, you were a good looking kid and a good looking man.   Sometimes people fall off and go from good to bad, and sometimes people's puberty does wonders (bad to good), there's something nice about...|||I feel like I'm the same, just with more knowledge/understanding. In a sense,  I've always been going towards the same direction/way of thinking since day 1.  Maybe that means I'm immature.  (I...|||Sober now, lol Interesting, I never knew I did that (not the lol part, lol). Although I've always known that I have a particular fixation on Se that I don't notice in other INFJ's - however it's...|||Ever since you joined. You exhibit much higher Se than Ni. You also show much higher Ti than Fe.[/QUOTE] my girlfriend is ISFP. She can't understand how I'm so oblivious to my environment and how...|||Ever since you joined. You exhibit much higher Se than Ni. You also show much higher Ti than Fe.[/QUOTE]  Hmmm interesting (sorry if my reply is weird, I'm currently high)  How exactly is it that...|||Yes, that's right. Children inherit their quirks from their parents - but the really important thing is not that connection, but recognising your own flesh and blood. Recognising yourself.  That's...|||Interesting, how come?  Was it purely based on this post or just observations across various posts.|||I didn't ask him so I can't be certain lol. But I'm pretty sure he wasn't.|||Woah lol, I didn't make fun of him for not chugging the beer, I teased him a little about drinking it so slowly - I feel like there is a significant difference. The teasing wasn't even because he was...|||This'\",\n          \"'I can relate to this. Only three people in my life ever told me that they felt calm and understood when I was around. I wasn't aware of this until then because I never consciously said something to...|||I had over 100 values at the beginning and would've had to answer 16.000 questions, it was difficult to select just a few of them and I'm not sure how accurate it actually is. Really good and...|||The thing that's so beautiful about ENFP/INFJ relationships is that one loves the other just as much. I always felt like it was Yin/Yang, the ENFP I fell in love with and I felt like we completed...|||In my experience, they always take bloodtests. They won't inject you with anything without a doctor and I was always told what it was.   A few more horror stories  My mother was a nurse before...|||Authenticity. I generally like people that are true to themselves. So much in our society is fake and I just have this uncomfortable feeling when I encounter it. I think I value art and love or...|||Very difficult. I was in a similar place of mind and I just needed time and some input to work things out and grow as a person. I don't think it would've worked if someone sent me something, I needed...|||I mean, if she's single.. why not? ENFP and INFJ work great together. I wouldn't mind if I was in her place. Worst thing that can happen is her saying No.|||I'm into sane people. That's really hot.|||True, but if you combine all of the statistics you could say that 20% or more of the human population suffer from some kind of mental illness. That's pretty crazy to think about, but you're right.|||I think you misunderstood a crucial part. As an example, let's take a video where someones hand gets cut off. If a psychopath sees it, his reaction will be Yup that's a cut. Now the hand is off.,...|||///|||If INFJ's are so likely to suffer from emotional trauma, why are they one of the least likeliest types to suffer from drug/alcohol addiction? I work in the field and statistics (and my experience...|||When did you have your first relationship (<20, 20-25, 26-30, >30)?  <20  What do you look for in a partner?  Intelligence, empathy, a good sense of humor, easygoing. Just a interesting...|||I don't know. I've been in a couple troubling situations and was the first one to take responsibility. Even when my mother died I was the one taking care of my father before I even thought about...|||Yes. I was always confused by my personality, but something really changed me and I can't really figure it out. I think pain really shaped who I am to an extend that's existential. I went to a...|||Factory Girl   https://www.youtube.com/watch?v=dofdqP8CaU0  I don't know why, but Edie Sedgwick always fascinated me. In a way, I really identified with her.   Anyway, 8/10. Personally I...|||Why do people always try to show their dominance? Those that try don't have any, it's all pretend. Just treat people right, it's not about alpha/beta. It's about honesty.|||Kinda. I write sometimes and I make some music from time to time, but it's always difficult because it just comes out of a moment and 5 minutes later I'm like What the hell is this?  I don't...|||Around 60 minutes, then I start to feel kinda awkward or uncomfortable. Over time I realized that it's not always the case and that I'm just afraid of being boring, but it's always a step to take. If...|||Agreed with Hikaru and Kirjuri, but increasing unemployment, lobbying, internet security and pollution worries me the most. The unemployment happens naturally and there's no way to stop it, but...|||https://www.youtube.com/watch?v=FZCZG5pwQGk|||I'm rather spontaneous when it comes to experiences and socializing. I have ideas on what to do or where to go, but I found that it's more fulfilling to just go with the moment. As an example, I...|||I don't know if this is a INFJ thing, but it applies to me. I just want to have a real conversation, which would require full attention from both sides. This isn't possible if I'm busy, so I reply...|||That was truly amazing and shows my thought process about this exact problem really well. I'm kinda blown away by how well this was made.  I think if you would apply these profiles, I would count...|||Not really. Even if there weren't any problems, I felt uncomfortable just knowing that there's somebody else in the house. I guess I wouldn't feel that way if I found the right person to live with,...|||https://www.youtube.com/watch?v=fn7NT1dbem4|||Definitely applies to me. I mistyped as INTJ for years until I got more in touch with my emotions, typed as INFJ and understood the cognitive functions behind it. Trauma, depression and anxiety can...|||I had a really hard time answering the questions. Most of the time, they all kinda applied or didn't. Anyways.  Dominance 32 Compliance 31 Steadiness 27 Influence 11  You have a strong inner...|||120  I didn't like the test and don't think it represents EQ in any way. What makes EQ- tests difficult is that there are no right answers most of the time anyway. If anything, they should focus on...|||No, this isn't a type thing. It's not as much about core personality as the experiences and influences one had. Social movements give people meaning and self-esteem, they feel like they belong to...|||I wouldn't call it addicted, but I definitely get some kind of rush. I learned over time to not take this as seriously, even though I feel someone doesn't mean the relationship is as serious or...|||I don't know her, just saw a couple interviews. One of the more reasonable questions. Definitely Fe, Ti and she gives off a Ni vibe. Could be INFJ.|||I slowly grew depressed over time and I kinda learned to live with it. I think it's a natural feeling and position towards society and life, to be honest. What helped me was to believe in the...|||I don't like political or social movements in general. Especially in todays world I think there's a lack of intellectualism and rationalism. When it comes to politics, it's about identity, emotions,...|||Breaking news: Just because someone acts differently to what you know doesn't mean they're not  type X or 1, 4, 5, 6, 9 or whatever. Just trust eachother about their typings, they know themselves...|||I don't want to hear any lies or empty words and I don't really want to talk about my feeling or what's going on either, but it really helps if someone is just cheerful. Getting distracted and pulled...|||1) What are your goals/aspirations? Why?  To maybe make this world a better place. I grew up around misery and it's still the only thing I'm really able to see. It wasn't always my aspiration, but...|||I hate ignorance and injustice. I really don't care if someone makes a inappropiate joke or says something offensive but if I see someone seriously hurting others I'm getting furious. There are some...|||https://www.youtube.com/watch?v=3MTbYve31BA   https://www.youtube.com/watch?v=3T8fEUyqmy8|||https://www.youtube.com/watch?v=YU4hhNKsPog|||I consider INFPs to be my emotional soul mates and I often get along with them great. I don't quite understand why INFPs seem to be so unpopular on here, I think out of every MBTI personality type...|||That's true. Still, I haven't seen anything that has proven me wrong. Either people think you're a shallow shell of a human being or a  inferior piece of shit that you can treat however you want....|||I think she's trying to manipulate you. She's guilt-feeding and self-loathing. That doesn't have to be a bad thing, it's a normal human reaction but I don't think she has really understood why you...|||To manipulate time. For the most part I only come up with the right response after it all happened.|||Nothing. Being ugly and being handsome is pretty much the same. I know because I was considered ugly as a child and generally handsome as an adult. Most people don't take you serious either way and...|||Definitely a mix between owl and cat with a small touch of phoenix|||24/50|||https://www.youtube.com/watch?v=4OdTBCgqRt4|||Years ago. Overall I think it's easier for a dominant sensor to understand an intuitive than the other way around or atleast I think I had a harder time rationally figuring out where he was coming...|||It depends on the person. I have met some sensors that I got along with great, others have just completely different interests and viewpoints so there's not a lot to talk about.  My father is a...'\",\n          \"Honestly, that doesn't sound like a friend I would like to keep....  But I guess you have reasons to call him your best friend and been through too much to just cut him out of your life. Obviously...|||feeling unloved and/or ignored for no reason, critisism, if others are down, when our freedom is taken (by rules, special situations)|||haha, that's so true...!xD|||haha, we're never really alone. :) whether that's good or bad is another question...|||welcome to perC! :D ( and don't worry, i'm pretty lazy too... ;D )|||yup, that's right ! everyone should feel comfortable. and once you got there (which will take a whole while), you have to keep it up... seems like full-time job to me. :tongue: we reassure and want...|||lol, this whole post confirms that ENFPs need to be reassured over and over again.  maybe we care too much about what others think, but then again that's not too bad, right... ? anyways, i'm one of...|||hello, jack, welcome to perC ! :D  i'm also looking forward for you to share your mind and join conversations.  it's always great to have someone new aboard, so enjoy your ride ! :)|||hello there fellow ENFP! :D enjoy your ride on perC !  oh, and i can't wait to read some of your new views. ;D|||first make sure she always feels welcome, because whenever there's an argument she'll need someone to talk to. communication is everything. (this advice was rather for your friend's boyfriend. xD) ...|||http://www.youtube.com/watch?v=BPKFfcomdZA|||welcome to perC ! make yourself at home ! :D|||indeed, forcing is not going to make things better. i know some Js who keep trying to make me actually use (and not only own) my appointment calendar. and they call me one hour before any...|||Enfpleasantly yeah, that's what i also think when i meet some js too! xD and after being confronted with that i also take some more time for things like this. it can be fun. but i couldn't do it...|||congrats ! :D  here's a big hug for you, dude ! *hug*|||haha, that might be the reason why some Js hate Ps so much... i mean maybe they are bothered by our unfinished look ? o.o i can imagine every J taking two little Ps by the hand and teach them how to...|||she said her boyfriend is ENXP, so i think it shouldn't be problem that we entered the discussion, right ? o.o i also think every response was important until now... or did i got the wrong end of...|||haha, maybe we're just too hot ? jk  it's pretty cold here at my place (oh, noes ! does that mean i'm minority ? xD), but pants are uncomfortable! sweat pants are okay though. everything as long as...|||hmm, i always thought that was a pro and a con for every relationship. i mean, everyone who is involved can be harmed, but they can also experient great feelings. or in the words of john green...|||oh, i do that too. if no one's around i draw or write.  today i found my old diary... i'm so stupid sometimes !! laughing about yourself is good from time to time. haha, we need to read them (i...|||that's good, hope is a good thing ! you can do it man ! :D *pats your shoulder*  or was that sarcasm ? oh... sometimes i feel like sheldon... .____.|||well i didn't knew about the double posting thing either ! xD  oh, i always blame the situation. there are so many factors... like the mood which can be influenced by the weather or the setting. or...|||oh, but as long as you have nice people around you who accept that panty-thing it's great too. :D and i don't think anyone here has made bad experience with that yet.   my fault ! i thought you...|||was that sarcasm ? if not... no need to thank me. :)  oh, i can understand you so well! xD but you should never blame your partner unless it was really his fault. maybe you can blame the...|||tbh, you won't like what i have to say, but i think you do have a problem. it doesn't have to be monophobia. monophobia means you're afraid of being alone, but i rather think you have a problem with...|||http://www.youtube.com/watch?v=xF5uvXV93hw  just discovered this band and i can't get enough ! \\u2665|||haha lucky you, enjoy your panty-freedom. indeed ! i want to live alone or with a SO too... for now i have to cope with my mom and her spontaneous guests. xD but soon i'll get myself a...|||lol! oh guys, guys. that's the reason why i love you so much ! xD i could never start this kind of thread .__. but i hate pants... or at least the pants i'm walking around with all day. as soon as...|||hello there ! it's always cool if someone joins us ! :D i hope you'll have fun and interesting conversations on here. welcome to perC! :)|||i'll give it a shot then! thanks for introducing me to it. (even if it wasn't your real intention xD) oh, it was ery interesting, i'll search for it! :D|||hello there, welcome to perC ! :D|||oh, no! i'm not. really, a big thank you for that compliment! it means a lot to me. :)  i was talking about your work. xD i wanted to see some of it, but i didn't wanted to push you at the same...|||ooh, that's too bad, i'd love to see some of your work.  but anyways, feel free. i don't want you to feel forced or anything... xD|||haha! why, thank you very much sir ! :) why don't you  post a pic too ?|||aww, i see. i need to play this game sometimes! :D ooh, don't say something like this, you're too humble. it's really beautiful! :) i once found a 'font-thread' here on perC. i'd love to analize...|||oh, i didn't knew this character... he looks mysterious... and very interesting. :D (is that a game ?) why not ? (haha, that's a dumb question since no one really likes their own handwriting... or...|||i had to think of cheeky vampire (do you know this series ? xD) when i saw your picture. :D and your handwriting is so beautiful ! love it !|||haha, thank you, you're a sweetheart ! i'm working on it. ;D i need so much more practise, i want to study art. so i have not much time anymore... >.<  oh. my. god. you are crazy, i mean,...|||no need to thank me, it was pleasure to help you! sounds like he already plays with the thought of being a couple ? maybe it's infatuation, but your relationship is also a strong connection and...|||oh, thanks! but i'm not talented, i began drawing when i was in kindergarten and i was awful. XD it was a long way to go. but, you're right. practise is the key. i should practise a little bit...|||oh, good that you mention him, he wanted me to show him a pic anyways. i hope he'll see it now... otherwise i'll mention him again.^^  yeeah, well i feel like i'm anime-trapped. xD i suck at...|||oh, i can relate too good with you. i've never been in a relationship because i never wanted to. but i can still relate. :) i'd never give up my freedom, but being in a relationship doesn't mean that...|||oh, i do ! love drawing, it's so relaxing ! :D i'm too lazy to scan any drawings up, so here's something digital. xD 61259|||nooo! i can't live in a world without hugs. ;___; and my heart is warm and real, not robotic at all. promise! >.< *runs after you*|||finding your balance is tricky, i guess others might think it's boring but i don't. i mean being balanced = being healthy. and how can you act out your potential the best ? right, if you're helathy!...|||haha, lol! since Ryaan is afraid of robots he won't eat me anymore. :P but probably he won't hug me either. :unsure: xD|||*tries to hug back but has no more arms* uuuuffff~! :blushed:|||somehow i want to brush my teeth again... :mellow:|||haha, i love hugging NTs for some reason ! xD  and i also hug people out of joy, i mean really, if you ever tell me good news you should automatically prepare for a hug ! (run NTs, run!)|||oh i just found something which might be very interesting for you...   There are just a couple of pieces of advice I can give you to help you in your quest....\"\n        ],\n        \"semantic_type\": \"\",\n        \"description\": \"\"\n      }\n    }\n  ]\n}"
            }
          },
          "metadata": {},
          "execution_count": 4
        }
      ]
    },
    {
      "cell_type": "markdown",
      "source": [
        "**Printing some statistics:**"
      ],
      "metadata": {
        "id": "1AeyCp0bD28x"
      }
    },
    {
      "cell_type": "code",
      "source": [
        "counts = collections.Counter(data[\"type\"])\n",
        "plotdata = pd.DataFrame(counts, index=[0])\n",
        "plt.figure();\n",
        "plotdata.plot.bar();"
      ],
      "metadata": {
        "id": "QFEBSwYjHhst",
        "outputId": "1963f3f5-e59d-4038-9f51-e6e4bf5c1084",
        "colab": {
          "base_uri": "https://localhost:8080/",
          "height": 442
        }
      },
      "execution_count": 5,
      "outputs": [
        {
          "output_type": "display_data",
          "data": {
            "text/plain": [
              "<Figure size 640x480 with 0 Axes>"
            ]
          },
          "metadata": {}
        },
        {
          "output_type": "display_data",
          "data": {
            "text/plain": [
              "<Figure size 640x480 with 1 Axes>"
            ],
            "image/png": "[encoded data removed]"
          },
          "metadata": {}
        }
      ]
    },
    {
      "cell_type": "markdown",
      "source": [
        "**Applying text preprocessing, lemmatization and we remove words that are too frequent and rarely encountered:**"
      ],
      "metadata": {
        "id": "Y3Yi2rqTBcgp"
      }
    },
    {
      "cell_type": "code",
      "source": [
        "def reg_handling(content: str) -> str:\n",
        "    \"\"\"\n",
        "    deleting punctuation, links, etc from DataFrame\n",
        "    \"\"\"\n",
        "\n",
        "    content = re.sub(r\"http\\S*\", \" \", content.lower().lstrip(\"'\"))\n",
        "    content = re.sub(r'\\|{3,}', ' ', content)\n",
        "    content = content.translate(str.maketrans(' ', ' ', string.punctuation))\n",
        "    content = re.sub(r'[^A-z]', ' ', content)\n",
        "\n",
        "    return content\n",
        "\n",
        "\n",
        "def applying_stemmer(text: str) -> str:\n",
        "    stemmer = SnowballStemmer('english')\n",
        "    new_text = [stemmer.stem(word) for word in text.split()]\n",
        "    return \" \".join(new_text)\n",
        "\n",
        "\n",
        "def applying_lemmatization(text: str) -> str:\n",
        "    lemmatizer = WordNetLemmatizer()\n",
        "    lst = text.split()\n",
        "    lemmatized_lst = [lemmatizer.lemmatize(word) for word in lst]\n",
        "    return \" \".join(lemmatized_lst)\n",
        "\n",
        "\n",
        "def delete_rare_words(column) -> list[str]:\n",
        "    \"\"\"\n",
        "    returns new vocabulary of document, without rare words\n",
        "    \"\"\"\n",
        "    words = collections.Counter()\n",
        "    for text in data[column]:\n",
        "        for word in text.split():\n",
        "            words[word] += 1\n",
        "\n",
        "    # delete words if their number of occurrences is less than 20\n",
        "    new_vocab = set()\n",
        "    counter_threshold = 20\n",
        "\n",
        "    for char, cnt in words.items():\n",
        "        if cnt > counter_threshold:\n",
        "            new_vocab.add(char)\n",
        "    return new_vocab\n",
        "\n",
        "def applying_vocab(text: str, vocab: list[str]) -> str:\n",
        "    \"\"\"\n",
        "    reducing inappropriate words from DataFrame,\n",
        "    such as stop words and too rare words\n",
        "    \"\"\"\n",
        "    new_text = [word for word in text.split() if word in vocab]\n",
        "    return \" \".join(new_text)\n",
        "\n",
        "\n",
        "data[\"posts\"] = data[\"posts\"].apply(reg_handling)\n",
        "data[\"postl\"] = data[\"posts\"]\n",
        "data[\"posts\"] = data[\"posts\"].apply(applying_stemmer)\n",
        "data[\"postl\"] = data[\"postl\"].apply(applying_lemmatization)\n",
        "\n",
        "columns = [\"postl\", \"posts\"]\n",
        "\n",
        "# appyling new vocabulary for both:\n",
        "# data with stemmer and data with lemmatization\n",
        "for column in columns:\n",
        "    new_vocab = delete_rare_words(column)\n",
        "    data[column] = data[column].apply(applying_vocab, args=(new_vocab,))"
      ],
      "metadata": {
        "id": "cj_WLVLCBF7p"
      },
      "execution_count": 6,
      "outputs": []
    },
    {
      "cell_type": "markdown",
      "source": [
        "**Encode data[\"type\"] labels to numbers from 0 up to 15:**"
      ],
      "metadata": {
        "id": "nL7ZpO0AB4vU"
      }
    },
    {
      "cell_type": "code",
      "source": [
        "def labels_renaming(mbti_type: str) -> int:\n",
        "    return mbti_map[mbti_type]\n",
        "\n",
        "\n",
        "data[\"type\"] = data[\"type\"].apply(labels_renaming)\n",
        "data.head()"
      ],
      "metadata": {
        "id": "Fb9olE2lKaYX",
        "colab": {
          "base_uri": "https://localhost:8080/",
          "height": 207
        },
        "outputId": "3fc4d467-52bb-4739-badb-ab552d248ce6"
      },
      "execution_count": 7,
      "outputs": [
        {
          "output_type": "execute_result",
          "data": {
            "text/plain": [
              "   type                                              posts  \\\n",
              "0     2  and intj moment not top ten play prank what ha...   \n",
              "1    11  im find the lack of me in these post veri alar...   \n",
              "2     7  good one cours to which i say i know that my b...   \n",
              "3     3  dear intp i enjoy our convers the other day es...   \n",
              "4    15  your fire that anoth silli misconcept that app...   \n",
              "\n",
              "                                               postl  \n",
              "0  and intj moment not top ten play prank what ha...  \n",
              "1  im finding the lack of me in these post very s...  \n",
              "2  good one course to which i say i know thats my...  \n",
              "3  dear intp i enjoyed our conversation the other...  \n",
              "4  youre fired thats another silly misconception ...  "
            ],
            "text/html": [
              "\n",
              "  <div id=\"df-035a924a-205a-4b3d-b9e7-8e0b583968ff\" class=\"colab-df-container\">\n",
              "    <div>\n",
              "<style scoped>\n",
              "    .dataframe tbody tr th:only-of-type {\n",
              "        vertical-align: middle;\n",
              "    }\n",
              "\n",
              "    .dataframe tbody tr th {\n",
              "        vertical-align: top;\n",
              "    }\n",
              "\n",
              "    .dataframe thead th {\n",
              "        text-align: right;\n",
              "    }\n",
              "</style>\n",
              "<table border=\"1\" class=\"dataframe\">\n",
              "  <thead>\n",
              "    <tr style=\"text-align: right;\">\n",
              "      <th></th>\n",
              "      <th>type</th>\n",
              "      <th>posts</th>\n",
              "      <th>postl</th>\n",
              "    </tr>\n",
              "  </thead>\n",
              "  <tbody>\n",
              "    <tr>\n",
              "      <th>0</th>\n",
              "      <td>2</td>\n",
              "      <td>and intj moment not top ten play prank what ha...</td>\n",
              "      <td>and intj moment not top ten play prank what ha...</td>\n",
              "    </tr>\n",
              "    <tr>\n",
              "      <th>1</th>\n",
              "      <td>11</td>\n",
              "      <td>im find the lack of me in these post veri alar...</td>\n",
              "      <td>im finding the lack of me in these post very s...</td>\n",
              "    </tr>\n",
              "    <tr>\n",
              "      <th>2</th>\n",
              "      <td>7</td>\n",
              "      <td>good one cours to which i say i know that my b...</td>\n",
              "      <td>good one course to which i say i know thats my...</td>\n",
              "    </tr>\n",
              "    <tr>\n",
              "      <th>3</th>\n",
              "      <td>3</td>\n",
              "      <td>dear intp i enjoy our convers the other day es...</td>\n",
              "      <td>dear intp i enjoyed our conversation the other...</td>\n",
              "    </tr>\n",
              "    <tr>\n",
              "      <th>4</th>\n",
              "      <td>15</td>\n",
              "      <td>your fire that anoth silli misconcept that app...</td>\n",
              "      <td>youre fired thats another silly misconception ...</td>\n",
              "    </tr>\n",
              "  </tbody>\n",
              "</table>\n",
              "</div>\n",
              "    <div class=\"colab-df-buttons\">\n",
              "\n",
              "  <div class=\"colab-df-container\">\n",
              "    <button class=\"colab-df-convert\" onclick=\"convertToInteractive('df-035a924a-205a-4b3d-b9e7-8e0b583968ff')\"\n",
              "            title=\"Convert this dataframe to an interactive table.\"\n",
              "            style=\"display:none;\">\n",
              "\n",
              "  <svg xmlns=\"http://www.w3.org/2000/svg\" height=\"24px\" viewBox=\"0 -960 960 960\">\n",
              "    <path d=\"M120-120v-720h720v720H120Zm60-500h600v-160H180v160Zm220 220h160v-160H400v160Zm0 220h160v-160H400v160ZM180-400h160v-160H180v160Zm440 0h160v-160H620v160ZM180-180h160v-160H180v160Zm440 0h160v-160H620v160Z\"/>\n",
              "  </svg>\n",
              "    </button>\n",
              "\n",
              "  <style>\n",
              "    .colab-df-container {\n",
              "      display:flex;\n",
              "      gap: 12px;\n",
              "    }\n",
              "\n",
              "    .colab-df-convert {\n",
              "      background-color: #E8F0FE;\n",
              "      border: none;\n",
              "      border-radius: 50%;\n",
              "      cursor: pointer;\n",
              "      display: none;\n",
              "      fill: #1967D2;\n",
              "      height: 32px;\n",
              "      padding: 0 0 0 0;\n",
              "      width: 32px;\n",
              "    }\n",
              "\n",
              "    .colab-df-convert:hover {\n",
              "      background-color: #E2EBFA;\n",
              "      box-shadow: 0px 1px 2px rgba(60, 64, 67, 0.3), 0px 1px 3px 1px rgba(60, 64, 67, 0.15);\n",
              "      fill: #174EA6;\n",
              "    }\n",
              "\n",
              "    .colab-df-buttons div {\n",
              "      margin-bottom: 4px;\n",
              "    }\n",
              "\n",
              "    [theme=dark] .colab-df-convert {\n",
              "      background-color: #3B4455;\n",
              "      fill: #D2E3FC;\n",
              "    }\n",
              "\n",
              "    [theme=dark] .colab-df-convert:hover {\n",
              "      background-color: #434B5C;\n",
              "      box-shadow: 0px 1px 3px 1px rgba(0, 0, 0, 0.15);\n",
              "      filter: drop-shadow(0px 1px 2px rgba(0, 0, 0, 0.3));\n",
              "      fill: #FFFFFF;\n",
              "    }\n",
              "  </style>\n",
              "\n",
              "    <script>\n",
              "      const buttonEl =\n",
              "        document.querySelector('#df-035a924a-205a-4b3d-b9e7-8e0b583968ff button.colab-df-convert');\n",
              "      buttonEl.style.display =\n",
              "        google.colab.kernel.accessAllowed ? 'block' : 'none';\n",
              "\n",
              "      async function convertToInteractive(key) {\n",
              "        const element = document.querySelector('#df-035a924a-205a-4b3d-b9e7-8e0b583968ff');\n",
              "        const dataTable =\n",
              "          await google.colab.kernel.invokeFunction('convertToInteractive',\n",
              "                                                    [key], {});\n",
              "        if (!dataTable) return;\n",
              "\n",
              "        const docLinkHtml = 'Like what you see? Visit the ' +\n",
              "          '<a target=\"_blank\" href=https://colab.research.google.com/notebooks/data_table.ipynb>data table notebook</a>'\n",
              "          + ' to learn more about interactive tables.';\n",
              "        element.innerHTML = '';\n",
              "        dataTable['output_type'] = 'display_data';\n",
              "        await google.colab.output.renderOutput(dataTable, element);\n",
              "        const docLink = document.createElement('div');\n",
              "        docLink.innerHTML = docLinkHtml;\n",
              "        element.appendChild(docLink);\n",
              "      }\n",
              "    </script>\n",
              "  </div>\n",
              "\n",
              "\n",
              "<div id=\"df-b1a289a1-173c-48f2-8002-2622db1c00f1\">\n",
              "  <button class=\"colab-df-quickchart\" onclick=\"quickchart('df-b1a289a1-173c-48f2-8002-2622db1c00f1')\"\n",
              "            title=\"Suggest charts\"\n",
              "            style=\"display:none;\">\n",
              "\n",
              "<svg xmlns=\"http://www.w3.org/2000/svg\" height=\"24px\"viewBox=\"0 0 24 24\"\n",
              "     width=\"24px\">\n",
              "    <g>\n",
              "        <path d=\"M19 3H5c-1.1 0-2 .9-2 2v14c0 1.1.9 2 2 2h14c1.1 0 2-.9 2-2V5c0-1.1-.9-2-2-2zM9 17H7v-7h2v7zm4 0h-2V7h2v10zm4 0h-2v-4h2v4z\"/>\n",
              "    </g>\n",
              "</svg>\n",
              "  </button>\n",
              "\n",
              "<style>\n",
              "  .colab-df-quickchart {\n",
              "      --bg-color: #E8F0FE;\n",
              "      --fill-color: #1967D2;\n",
              "      --hover-bg-color: #E2EBFA;\n",
              "      --hover-fill-color: #174EA6;\n",
              "      --disabled-fill-color: #AAA;\n",
              "      --disabled-bg-color: #DDD;\n",
              "  }\n",
              "\n",
              "  [theme=dark] .colab-df-quickchart {\n",
              "      --bg-color: #3B4455;\n",
              "      --fill-color: #D2E3FC;\n",
              "      --hover-bg-color: #434B5C;\n",
              "      --hover-fill-color: #FFFFFF;\n",
              "      --disabled-bg-color: #3B4455;\n",
              "      --disabled-fill-color: #666;\n",
              "  }\n",
              "\n",
              "  .colab-df-quickchart {\n",
              "    background-color: var(--bg-color);\n",
              "    border: none;\n",
              "    border-radius: 50%;\n",
              "    cursor: pointer;\n",
              "    display: none;\n",
              "    fill: var(--fill-color);\n",
              "    height: 32px;\n",
              "    padding: 0;\n",
              "    width: 32px;\n",
              "  }\n",
              "\n",
              "  .colab-df-quickchart:hover {\n",
              "    background-color: var(--hover-bg-color);\n",
              "    box-shadow: 0 1px 2px rgba(60, 64, 67, 0.3), 0 1px 3px 1px rgba(60, 64, 67, 0.15);\n",
              "    fill: var(--button-hover-fill-color);\n",
              "  }\n",
              "\n",
              "  .colab-df-quickchart-complete:disabled,\n",
              "  .colab-df-quickchart-complete:disabled:hover {\n",
              "    background-color: var(--disabled-bg-color);\n",
              "    fill: var(--disabled-fill-color);\n",
              "    box-shadow: none;\n",
              "  }\n",
              "\n",
              "  .colab-df-spinner {\n",
              "    border: 2px solid var(--fill-color);\n",
              "    border-color: transparent;\n",
              "    border-bottom-color: var(--fill-color);\n",
              "    animation:\n",
              "      spin 1s steps(1) infinite;\n",
              "  }\n",
              "\n",
              "  @keyframes spin {\n",
              "    0% {\n",
              "      border-color: transparent;\n",
              "      border-bottom-color: var(--fill-color);\n",
              "      border-left-color: var(--fill-color);\n",
              "    }\n",
              "    20% {\n",
              "      border-color: transparent;\n",
              "      border-left-color: var(--fill-color);\n",
              "      border-top-color: var(--fill-color);\n",
              "    }\n",
              "    30% {\n",
              "      border-color: transparent;\n",
              "      border-left-color: var(--fill-color);\n",
              "      border-top-color: var(--fill-color);\n",
              "      border-right-color: var(--fill-color);\n",
              "    }\n",
              "    40% {\n",
              "      border-color: transparent;\n",
              "      border-right-color: var(--fill-color);\n",
              "      border-top-color: var(--fill-color);\n",
              "    }\n",
              "    60% {\n",
              "      border-color: transparent;\n",
              "      border-right-color: var(--fill-color);\n",
              "    }\n",
              "    80% {\n",
              "      border-color: transparent;\n",
              "      border-right-color: var(--fill-color);\n",
              "      border-bottom-color: var(--fill-color);\n",
              "    }\n",
              "    90% {\n",
              "      border-color: transparent;\n",
              "      border-bottom-color: var(--fill-color);\n",
              "    }\n",
              "  }\n",
              "</style>\n",
              "\n",
              "  <script>\n",
              "    async function quickchart(key) {\n",
              "      const quickchartButtonEl =\n",
              "        document.querySelector('#' + key + ' button');\n",
              "      quickchartButtonEl.disabled = true;  // To prevent multiple clicks.\n",
              "      quickchartButtonEl.classList.add('colab-df-spinner');\n",
              "      try {\n",
              "        const charts = await google.colab.kernel.invokeFunction(\n",
              "            'suggestCharts', [key], {});\n",
              "      } catch (error) {\n",
              "        console.error('Error during call to suggestCharts:', error);\n",
              "      }\n",
              "      quickchartButtonEl.classList.remove('colab-df-spinner');\n",
              "      quickchartButtonEl.classList.add('colab-df-quickchart-complete');\n",
              "    }\n",
              "    (() => {\n",
              "      let quickchartButtonEl =\n",
              "        document.querySelector('#df-b1a289a1-173c-48f2-8002-2622db1c00f1 button');\n",
              "      quickchartButtonEl.style.display =\n",
              "        google.colab.kernel.accessAllowed ? 'block' : 'none';\n",
              "    })();\n",
              "  </script>\n",
              "</div>\n",
              "    </div>\n",
              "  </div>\n"
            ],
            "application/vnd.google.colaboratory.intrinsic+json": {
              "type": "dataframe",
              "variable_name": "data",
              "summary": "{\n  \"name\": \"data\",\n  \"rows\": 9174,\n  \"fields\": [\n    {\n      \"column\": \"type\",\n      \"properties\": {\n        \"dtype\": \"number\",\n        \"std\": 3,\n        \"min\": 0,\n        \"max\": 15,\n        \"num_unique_values\": 16,\n        \"samples\": [\n          2,\n          11,\n          14\n        ],\n        \"semantic_type\": \"\",\n        \"description\": \"\"\n      }\n    },\n    {\n      \"column\": \"posts\",\n      \"properties\": {\n        \"dtype\": \"string\",\n        \"num_unique_values\": 9166,\n        \"samples\": [\n          \"weird question but what is your work im just curious to be honest if someon ask me about lightbulb moment i wouldnt realli be sure about whether or not i have them i use to struggl with this idea which use to make me feel like i wasnt infj i have a close friend i think i would call him my best friend actual dure my initi discoveri of mbti i gain enough knowledg that i felt i understood my type and other type after type i have a close friend i think i would call him my best friend actual dure my initi discoveri of mbti i gain enough knowledg that i felt i understood my type and other type after type hmm i dont know i would say i struggl with time but that becaus im pretti obsess with time manag so i perhap it just a high standard im actual alot more im not sure if you misread medit as medic lol i avoid medic becaus i have a negat bias against drug so it okay i realli will make sure i dont get addict you guy gave realli good feedback all the input is a mix varieti of answer which is perfect i know i can be abit melodramat but nobodi play up on that you guy are awesom thank alot i hear ya i alway alway need someth to do even when im ill i should be do someth unless im sleep not necessarili do someth but move toward someth so if im ill lol it okay that exact like someth i would do infact i did this today social interact impair verbal and nonverb communic restrict and repetit behavior usual by age two i dont realli recognis these basic symptom of you know it funni someth just hit me all this time i was under the impress when you hit the place of presenc that everyth is fine not necessarili becaus you dont care anymor hmm that interest the first ive heard of deperson i cant say i feel anxious due to the thought but like i said the overwhelm natur of it can make me feel anxious so i sit in my chair sometim listen to beat some time not usual i tri not to over complic it and just tri focus on the breath sometim i tri differ medit techniqu cant say im feel veri enlighten i know all of you arent psychologist lol but i just thought it would be good to get some input outsid my own thought my mind feel like it run mph at time it sort of like my thought intp ixtp yeah it not so bad now and im studi i wont be work throughout the year so gotta make what i can now hate the work that you do i do argh i need the money and im onli work there for more week but it tortur was such a good song man yo did you also listen to littl weapon it on the same album i like your signatur remind me of the fourth principl the principl of polar everyth is dual everyth has pole everyth has it pair of opposit like and final got my brace off are you sure you dont want a hug from me when we meet up enxp lean on enfp the mani be simpli that wherev i go across the internet about the mbti the loop theori seem to be open accept if it brought up it rare challeng so obvious to me it whi is there no such thing as an niti loop mani say there is and i believ there is so im gonna have to read an explan befor i throw away that concept i had anoth one of those moment again sometim i feel extrem nostalgia for place ive never been befor when i was young i was sure that it was an indic of where i was dure talk to a sensor type can be to anyon each person is an individu that is develop independ there is alreadi black is it possibl to chang it to instead lol i had a stranger stop me today and talk to me about how well spoken i am first time for everyth i never would have known either stuff like that is realli nice to here some peopl just chang to black thank you i find myself in a differ place moment to moment the chang are so frequent i seem to forget who i was just befor what was i think the answer me i just want to hold on to archetyp stand up comedi might just be the next big im natur agreeabl too but whenev i notic this indecis in a group just for the sake of the group i notic i take charg and make a decis lol like watch peopl realli current have my first relationship with my isfp thing are great but ofcours it the start thing are suppos to be great we were pretti much best friend for a year while she wasnt hey your type too mayb that has someth to do with it im about to go to my parttim job i work as a bartend i have extrem anxieti dure the hour lead up to work everytim noth actual goe wrong dure work so the anxieti is dam you were a good look kid and a good look man sometim peopl fall off and go from good to bad and sometim peopl puberti doe wonder bad to good there someth nice about i feel like im the same just with more in a sens ive alway been go toward the same of think sinc day mayb that mean im immatur i sober now lol interest i never knew i did that not the lol part lol although ive alway known that i have a particular fixat on se that i dont notic in other infj howev it ever sinc you join you exhibit much higher se than ni you also show much higher ti than my girlfriend is isfp she cant understand how im so oblivi to my environ and how ever sinc you join you exhibit much higher se than ni you also show much higher ti than hmmm interest sorri if my repli is weird im current high how exact is it that yes that right children inherit their quirk from their parent but the realli import thing is not that connect but recognis your own flesh and blood recognis yourself that interest how come was it pure base on this post or just observ across various post i didnt ask him so i cant be certain lol but im pretti sure he wasnt woah lol i didnt make fun of him for not the beer i teas him a littl about drink it so slowli i feel like there is a signific differ the teas wasnt even becaus he was this\",\n          \"i can relat to this onli three peopl in my life ever told me that they felt calm and understood when i was around i wasnt awar of this until then becaus i never conscious said someth to i had over valu at the begin and wouldv had to answer question it was difficult to select just a few of them and im not sure how accur it actual is realli good and the thing that so beauti about relationship is that one love the other just as much i alway felt like it was the enfp i fell in love with and i felt like we complet in my experi they alway take they wont inject you with anyth without a doctor and i was alway told what it was a few more horror stori my mother was a nurs befor authent i general like peopl that are true to themselv so much in our societi is fake and i just have this uncomfort feel when i encount it i think i valu art and love or veri difficult i was in a similar place of mind and i just need time and some input to work thing out and grow as a person i dont think it wouldv work if someon sent me someth i need i mean if shes singl whi not enfp and infj work great togeth i wouldnt mind if i was in her place worst thing that can happen is her say no im into sane peopl that realli hot true but if you combin all of the statist you could say that or more of the human popul suffer from some kind of mental ill that pretti crazi to think about but your right i think you misunderstood a crucial part as an exampl let take a video where someon hand get cut off if a psychopath see it his reaction will be yup that a cut now the hand is off if infj are so like to suffer from emot trauma whi are they one of the least type to suffer from addict i work in the field and statist and my experi when did you have your first relationship what do you look for in a partner intellig empathi a good sens of humor easygo just a interest i dont know ive been in a coupl troubl situat and was the first one to take respons even when my mother die i was the one take care of my father befor i even thought about yes i was alway confus by my person but someth realli chang me and i cant realli figur it out i think pain realli shape who i am to an extend that existenti i went to a factori girl i dont know whi but alway fascin me in a way i realli identifi with her anyway person i whi do peopl alway tri to show their domin those that tri dont have ani it all pretend just treat peopl right it not about it about honesti kinda i write sometim and i make some music from time to time but it alway difficult becaus it just come out of a moment and minut later im like what the hell is this i dont around minut then i start to feel kinda awkward or uncomfort over time i realiz that it not alway the case and that im just afraid of be bore but it alway a step to take if agre with and but increas unemploy lobbi internet secur and pollut worri me the most the unemploy happen natur and there no way to stop it but rather spontan when it come to experi and social i have idea on what to do or where to go but i found that it more fulfil to just go with the moment as an exampl i i dont know if this is a infj thing but it appli to me i just want to have a real convers which would requir full attent from both side this isnt possibl if im busi so i repli that was truli amaz and show my thought process about this exact problem realli well im kinda blown away by how well this was made i think if you would appli these profil i would count not realli even if there werent ani problem i felt uncomfort just know that there somebodi els in the hous i guess i wouldnt feel that way if i found the right person to live with appli to me i mistyp as intj for year until i got more in touch with my emot type as infj and understood the cognit function behind it trauma depress and anxieti can i had a realli hard time answer the question most of the time they all kinda appli or didnt anyway domin steadi influenc you have a strong inner i didnt like the test and dont think it repres eq in ani way what make eq test difficult is that there are no right answer most of the time anyway if anyth they should focus on no this isnt a type thing it not as much about core person as the experi and influenc one had social movement give peopl mean and selfesteem they feel like they belong to i wouldnt call it addict but i definit get some kind of rush i learn over time to not take this as serious even though i feel someon doesnt mean the relationship is as serious or i dont know her just saw a coupl interview one of the more reason question definit fe ti and she give off a ni vibe could be infj i slowli grew depress over time and i kinda learn to live with it i think it a natur feel and posit toward societi and life to be honest what help me was to believ in the i dont like polit or social movement in general especi in today world i think there a lack of intellectu and ration when it come to polit it about ident emot break news just becaus someon act differ to what you know doesnt mean theyr not type x or or whatev just trust eachoth about their type they know themselv i dont want to hear ani lie or empti word and i dont realli want to talk about my feel or what go on either but it realli help if someon is just cheer get distract and pull what are your whi to mayb make this world a better place i grew up around miseri and it still the onli thing im realli abl to see it wasnt alway my aspir but i hate ignor and injustic i realli dont care if someon make a joke or say someth offens but if i see someon serious hurt other im get furious there are some consid infp to be my emot soul mate and i often get along with them great i dont quit understand whi infp seem to be so unpopular on here i think out of everi mbti person type that true still i havent seen anyth that has proven me wrong either peopl think your a shallow shell of a human be or a inferior piec of shit that you can treat howev you want i think shes tri to manipul you shes and selfloath that doesnt have to be a bad thing it a normal human reaction but i dont think she has realli understood whi you to manipul time for the most part i onli come up with the right respons after it all happen noth be ugli and be handsom is pretti much the same i know becaus i was consid ugli as a child and general handsom as an adult most peopl dont take you serious either way and definit a mix between owl and cat with a small touch of phoenix ago overal i think it easier for a domin sensor to understand an intuit than the other way around or atleast i think i had a harder time ration figur out where he was come it depend on the person i have met some sensor that i got along with great other have just complet differ interest and viewpoint so there not a lot to talk about my father is a\",\n          \"honest that doesnt sound like a friend i would like to keep but i guess you have reason to call him your best friend and been through too much to just cut him out of your life obvious feel unlov andor ignor for no reason if other are down when our freedom is taken by rule special situat haha that so haha were never realli alon whether that good or bad is anoth question welcom to perc d and dont worri im pretti lazi too d yup that right everyon should feel comfort and onc you got there which will take a whole while you have to keep it up seem like fulltim job to me tongu we reassur and want lol this whole post confirm that enfp need to be reassur over and over again mayb we care too much about what other think but then again that not too bad right anyway im one of hello jack welcom to perc d im also look forward for you to share your mind and join convers it alway great to have someon new aboard so enjoy your ride hello there fellow enfp d enjoy your ride on perc oh and i cant wait to read some of your new view d first make sure she alway feel welcom becaus whenev there an argument shell need someon to talk to communic is everyth this advic was rather for your friend boyfriend xd to perc make yourself at home d inde forc is not go to make thing better i know some js who keep tri to make me actual use and not onli own my appoint calendar and they call me one hour befor ani yeah that what i also think when i meet some js too xd and after be confront with that i also take some more time for thing like this it can be fun but i couldnt do it congrat d here a big hug for you dude hug haha that might be the reason whi some js hate ps so much i mean mayb they are bother by our unfinish look oo i can imagin everi j take two littl ps by the hand and teach them how to she said her boyfriend is enxp so i think it shouldnt be problem that we enter the discuss right oo i also think everi respons was import until now or did i got the wrong end of haha mayb were just too hot jk it pretti cold here at my place oh doe that mean im minor xd but pant are uncomfort sweat pant are okay though everyth as long as hmm i alway thought that was a pro and a con for everi relationship i mean everyon who is involv can be harm but they can also experi great feel or in the word of john green oh i do that too if no one around i draw or write today i found my old diari im so stupid sometim laugh about yourself is good from time to time haha we need to read them i that good hope is a good thing you can do it man d pat your shoulder or was that sarcasm oh sometim i feel like sheldon well i didnt knew about the doubl post thing either xd oh i alway blame the situat there are so mani factor like the mood which can be influenc by the weather or the set or oh but as long as you have nice peopl around you who accept that it great too d and i dont think anyon here has made bad experi with that yet my fault i thought you was that sarcasm if not no need to thank me oh i can understand you so well xd but you should never blame your partner unless it was realli his fault mayb you can blame the tbh you wont like what i have to say but i think you do have a problem it doesnt have to be mean your afraid of be alon but i rather think you have a problem with just discov this band and i cant get enough haha lucki you enjoy your inde i want to live alon or with a so too for now i have to cope with my mom and her spontan guest xd but soon ill get myself a lol oh guy guy that the reason whi i love you so much xd i could never start this kind of thread but i hate pant or at least the pant im walk around with all day as soon as hello there it alway cool if someon join us d i hope youll have fun and interest convers on here welcom to perc ill give it a shot then thank for introduc me to it even if it wasnt your real intent xd oh it was interest ill search for it d hello there welcom to perc d oh no im not realli a big thank you for that compliment it mean a lot to me i was talk about your work xd i want to see some of it but i didnt want to push you at the same ooh that too bad id love to see some of your work but anyway feel free i dont want you to feel forc or anyth xd haha whi thank you veri much sir whi dont you post a pic too aww i see i need to play this game sometim d ooh dont say someth like this your too humbl it realli beauti i onc found a here on perc id love to anal oh i didnt knew this charact he look mysteri and veri interest d is that a game whi not haha that a dumb question sinc no one realli like their own handwrit or i had to think of cheeki vampir do you know this seri xd when i saw your pictur d and your handwrit is so beauti love it haha thank you your a sweetheart im work on it d i need so much more practis i want to studi art so i have not much time anymor oh my god you are crazi i mean no need to thank me it was pleasur to help you sound like he alreadi play with the thought of be a coupl mayb it infatu but your relationship is also a strong connect and oh thank but im not talent i began draw when i was in kindergarten and i was aw xd it was a long way to go but your right practis is the key i should practis a littl bit oh good that you mention him he want me to show him a pic anyway i hope hell see it now otherwis ill mention him again well i feel like im xd i suck at oh i can relat too good with you ive never been in a relationship becaus i never want to but i can still relat id never give up my freedom but be in a relationship doesnt mean that oh i do love draw it so relax d im too lazi to scan ani draw up so here someth digit xd nooo i cant live in a world without hug and my heart is warm and real not robot at all promis run after you find your balanc is tricki i guess other might think it bore but i dont i mean be balanc be healthi and how can you act out your potenti the best right if your haha lol sinc is afraid of robot he wont eat me anymor p but probabl he wont hug me either unsur xd tri to hug back but has no more arm blush somehow i want to brush my teeth again mellow haha i love hug nts for some reason xd and i also hug peopl out of joy i mean realli if you ever tell me good news you should automat prepar for a hug run nts run oh i just found someth which might be veri interest for you there are just a coupl of piec of advic i can give you to help you in your quest\"\n        ],\n        \"semantic_type\": \"\",\n        \"description\": \"\"\n      }\n    },\n    {\n      \"column\": \"postl\",\n      \"properties\": {\n        \"dtype\": \"string\",\n        \"num_unique_values\": 9166,\n        \"samples\": [\n          \"weird question but what is your work im just curious to be honest if someone asked me about lightbulb moment i wouldnt really be sure about whether or not i have them i used to struggle with this idea which used to make me feel like i wasnt infj i have a close friend i think i would call him my best friend actually during my initial discovery of mbti i gained enough knowledge that i felt i understood my type and other type after typing i have a close friend i think i would call him my best friend actually during my initial discovery of mbti i gained enough knowledge that i felt i understood my type and other type after typing hmm i dont know i would say i struggle with time but thats because im pretty obsessed with time management so i perhaps it just a high standard im actually alot more im not sure if you misread meditation a medication lol i avoid medication because i have a negative bias against drug so it okay i really will make sure i dont get addicted you guy gave really good feedback all the input is a mixed variety of answer which is perfect i know i can be abit melodramatic but nobody played up on that you guy are awesome thanks alot i hear ya i always always need something to do even when im ill i should be doing something unless im sleeping not necessarily doing something but moving towards something so if im ill lol it okay thats exactly like something i would do infact i did this today social interaction verbal and nonverbal communication restricted and repetitive behavior usual by age two i dont really recognise these basic symptom of you know it funny something just hit me all this time i wa under the impression when you hit the place of presence that everything is fine not necessarily because you dont care anymore hmm thats interesting the first ive heard of depersonalization i cant say i feel anxious due to the thought but like i said the overwhelming nature of it can make me feel anxious so i sitting in my chair sometimes listening to beat some time not usually i try not to over complicate it and just try focus on the breathe sometimes i try different meditation technique cant say im feeling very enlightened i know all of you arent psychologist lol but i just thought it would be good to get some input outside my own thought my mind feel like it run mph at time it sort of like my thought intp ixtp yeah it not so bad now and im studying i wont be working throughout the year so gotta make what i can now hating the work that you do i do argh i need the money and im only working there for more week but it wa such a good song man yo did you also listen to little weapon it on the same album i like your signature reminds me of the fourth principle the principle of everything is dual everything ha pole everything ha it pair of opposite like and finally got my brace off are you sure you dont want a hug from me when we meet up enxp leaning on enfp the many being simply that wherever i go across the internet about the mbti the loop theory seems to be openly accepted if it brought up it rarely challenged so obviously to me it why is there no such thing a an niti loop many say there is and i believed there is so im gonna have to read an explanation before i throw away that concept i had another one of those moment again sometimes i feel extreme nostalgia for place ive never been before when i wa young i wa sure that it wa an indicator of where i wa during talking to a sensor type can be to anyone each person is an individual that is developed independently there is already black is it possible to change it to instead lol i had a stranger stop me today and talk to me about how well spoken i am first time for everything i never would have known either stuff like that is really nice to here some people just change to black thank you i find myself in a different place moment to moment the change are so frequent i seem to forget who i wa just before what wa i thinking the answer me i just want to hold on to archetypal stand up comedy might just be the next big im naturally agreeable too but whenever i notice this indecisiveness in a group just for the sake of the group i notice i take charge and make a decision lol like watching people really currently having my first relationship with my isfp thing are great but ofcourse it the start thing are supposed to be great we were pretty much best friend for a year while she wasnt hey youre type too maybe that ha something to do with it im about to go to my parttime job i work a a bartender i have extreme anxiety during the hour leading up to work everytime nothing actually go wrong during work so the anxiety is dam you were a good looking kid and a good looking man sometimes people fall off and go from good to bad and sometimes people puberty doe wonder bad to good there something nice about i feel like im the same just with more in a sense ive always been going towards the same of thinking since day maybe that mean im immature i sober now lol interesting i never knew i did that not the lol part lol although ive always known that i have a particular fixation on se that i dont notice in other infjs however it ever since you joined you exhibit much higher se than ni you also show much higher ti than my girlfriend is isfp she cant understand how im so oblivious to my environment and how ever since you joined you exhibit much higher se than ni you also show much higher ti than hmmm interesting sorry if my reply is weird im currently high how exactly is it that yes thats right child inherit their quirk from their parent but the really important thing is not that connection but your own flesh and blood yourself thats interesting how come wa it purely based on this post or just observation across various post i didnt ask him so i cant be certain lol but im pretty sure he wasnt woah lol i didnt make fun of him for not the beer i teased him a little about drinking it so slowly i feel like there is a significant difference the teasing wasnt even because he wa this\",\n          \"i can relate to this only three people in my life ever told me that they felt calm and understood when i wa around i wasnt aware of this until then because i never consciously said something to i had over value at the beginning and wouldve had to answer question it wa difficult to select just a few of them and im not sure how accurate it actually is really good and the thing thats so beautiful about relationship is that one love the other just a much i always felt like it wa the enfp i fell in love with and i felt like we completed in my experience they always take they wont you with anything without a doctor and i wa always told what it wa a few more horror story my mother wa a nurse before authenticity i generally like people that are true to themselves so much in our society is fake and i just have this uncomfortable feeling when i encounter it i think i value art and love or very difficult i wa in a similar place of mind and i just needed time and some input to work thing out and grow a a person i dont think it wouldve worked if someone sent me something i needed i mean if shes single why not enfp and infj work great together i wouldnt mind if i wa in her place worst thing that can happen is her saying no im into sane people thats really hot true but if you combine all of the statistic you could say that or more of the human population suffer from some kind of mental illness thats pretty crazy to think about but youre right i think you misunderstood a crucial part a an example let take a video where someone hand get cut off if a psychopath see it his reaction will be yup thats a cut now the hand is off if infjs are so likely to suffer from emotional trauma why are they one of the least type to suffer from addiction i work in the field and statistic and my experience when did you have your first relationship what do you look for in a partner intelligence empathy a good sense of humor easygoing just a interesting i dont know ive been in a couple troubling situation and wa the first one to take responsibility even when my mother died i wa the one taking care of my father before i even thought about yes i wa always confused by my personality but something really changed me and i cant really figure it out i think pain really shaped who i am to an extend thats existential i went to a factory girl i dont know why but always fascinated me in a way i really identified with her anyway personally i why do people always try to show their dominance those that try dont have any it all pretend just treat people right it not about it about honesty kinda i write sometimes and i make some music from time to time but it always difficult because it just come out of a moment and minute later im like what the hell is this i dont around minute then i start to feel kinda awkward or uncomfortable over time i realized that it not always the case and that im just afraid of being boring but it always a step to take if agreed with and but increasing unemployment internet security and pollution worry me the most the unemployment happens naturally and there no way to stop it but rather spontaneous when it come to experience and socializing i have idea on what to do or where to go but i found that it more fulfilling to just go with the moment a an example i i dont know if this is a infj thing but it applies to me i just want to have a real conversation which would require full attention from both side this isnt possible if im busy so i reply that wa truly amazing and show my thought process about this exact problem really well im kinda blown away by how well this wa made i think if you would apply these profile i would count not really even if there werent any problem i felt uncomfortable just knowing that there somebody else in the house i guess i wouldnt feel that way if i found the right person to live with applies to me i mistyped a intj for year until i got more in touch with my emotion typed a infj and understood the cognitive function behind it trauma depression and anxiety can i had a really hard time answering the question most of the time they all kinda applied or didnt anyways dominance influence you have a strong inner i didnt like the test and dont think it represents eq in any way what make eq test difficult is that there are no right answer most of the time anyway if anything they should focus on no this isnt a type thing it not a much about core personality a the experience and influence one had social movement give people meaning and selfesteem they feel like they belong to i wouldnt call it addicted but i definitely get some kind of rush i learned over time to not take this a seriously even though i feel someone doesnt mean the relationship is a serious or i dont know her just saw a couple interview one of the more reasonable question definitely fe ti and she give off a ni vibe could be infj i slowly grew depressed over time and i kinda learned to live with it i think it a natural feeling and position towards society and life to be honest what helped me wa to believe in the i dont like political or social movement in general especially in today world i think there a lack of intellectualism and when it come to politics it about identity emotion breaking news just because someone act differently to what you know doesnt mean theyre not type x or or whatever just trust eachother about their typing they know themselves i dont want to hear any lie or empty word and i dont really want to talk about my feeling or whats going on either but it really help if someone is just cheerful getting distracted and pulled what are your why to maybe make this world a better place i grew up around misery and it still the only thing im really able to see it wasnt always my aspiration but i hate ignorance and injustice i really dont care if someone make a joke or say something offensive but if i see someone seriously hurting others im getting furious there are some consider infps to be my emotional soul mate and i often get along with them great i dont quite understand why infps seem to be so unpopular on here i think out of every mbti personality type thats true still i havent seen anything that ha proven me wrong either people think youre a shallow shell of a human being or a inferior piece of shit that you can treat however you want i think shes trying to manipulate you shes and selfloathing that doesnt have to be a bad thing it a normal human reaction but i dont think she ha really understood why you to manipulate time for the most part i only come up with the right response after it all happened nothing being ugly and being handsome is pretty much the same i know because i wa considered ugly a a child and generally handsome a an adult most people dont take you serious either way and definitely a mix between owl and cat with a small touch of phoenix ago overall i think it easier for a dominant sensor to understand an intuitive than the other way around or atleast i think i had a harder time rationally figuring out where he wa coming it depends on the person i have met some sensor that i got along with great others have just completely different interest and viewpoint so there not a lot to talk about my father is a\",\n          \"honestly that doesnt sound like a friend i would like to keep but i guess you have reason to call him your best friend and been through too much to just cut him out of your life obviously feeling unloved andor ignored for no reason if others are down when our freedom is taken by rule special situation haha thats so haha were never really alone whether thats good or bad is another question welcome to perc d and dont worry im pretty lazy too d yup thats right everyone should feel comfortable and once you got there which will take a whole while you have to keep it up seems like fulltime job to me tongue we reassure and want lol this whole post confirms that enfps need to be over and over again maybe we care too much about what others think but then again thats not too bad right anyways im one of hello jack welcome to perc d im also looking forward for you to share your mind and join conversation it always great to have someone new aboard so enjoy your ride hello there fellow enfp d enjoy your ride on perc oh and i cant wait to read some of your new view d first make sure she always feel welcome because whenever there an argument shell need someone to talk to communication is everything this advice wa rather for your friend boyfriend xd to perc make yourself at home d indeed forcing is not going to make thing better i know some j who keep trying to make me actually use and not only own my appointment calendar and they call me one hour before any yeah thats what i also think when i meet some j too xd and after being confronted with that i also take some more time for thing like this it can be fun but i couldnt do it congrats d here a big hug for you dude hug haha that might be the reason why some j hate p so much i mean maybe they are bothered by our unfinished look oo i can imagine every j taking two little p by the hand and teach them how to she said her boyfriend is enxp so i think it shouldnt be problem that we entered the discussion right oo i also think every response wa important until now or did i got the wrong end of haha maybe were just too hot jk it pretty cold here at my place oh no doe that mean im minority xd but pant are uncomfortable sweat pant are okay though everything a long a hmm i always thought that wa a pro and a con for every relationship i mean everyone who is involved can be harmed but they can also great feeling or in the word of john green oh i do that too if no one around i draw or write today i found my old diary im so stupid sometimes laughing about yourself is good from time to time haha we need to read them i thats good hope is a good thing you can do it man d pat your shoulder or wa that sarcasm oh sometimes i feel like sheldon well i didnt knew about the double posting thing either xd oh i always blame the situation there are so many factor like the mood which can be influenced by the weather or the setting or oh but a long a you have nice people around you who accept that it great too d and i dont think anyone here ha made bad experience with that yet my fault i thought you wa that sarcasm if not no need to thank me oh i can understand you so well xd but you should never blame your partner unless it wa really his fault maybe you can blame the tbh you wont like what i have to say but i think you do have a problem it doesnt have to be mean youre afraid of being alone but i rather think you have a problem with just discovered this band and i cant get enough haha lucky you enjoy your indeed i want to live alone or with a so too for now i have to cope with my mom and her spontaneous guest xd but soon ill get myself a lol oh guy guy thats the reason why i love you so much xd i could never start this kind of thread but i hate pant or at least the pant im walking around with all day a soon a hello there it always cool if someone join u d i hope youll have fun and interesting conversation on here welcome to perc ill give it a shot then thanks for introducing me to it even if it wasnt your real intention xd oh it wa interesting ill search for it d hello there welcome to perc d oh no im not really a big thank you for that compliment it mean a lot to me i wa talking about your work xd i wanted to see some of it but i didnt wanted to push you at the same ooh thats too bad id love to see some of your work but anyways feel free i dont want you to feel forced or anything xd haha why thank you very much sir why dont you post a pic too aww i see i need to play this game sometimes d ooh dont say something like this youre too humble it really beautiful i once found a here on perc id love to oh i didnt knew this character he look mysterious and very interesting d is that a game why not haha thats a dumb question since no one really like their own handwriting or i had to think of cheeky vampire do you know this series xd when i saw your picture d and your handwriting is so beautiful love it haha thank you youre a sweetheart im working on it d i need so much more practise i want to study art so i have not much time anymore oh my god you are crazy i mean no need to thank me it wa pleasure to help you sound like he already play with the thought of being a couple maybe it infatuation but your relationship is also a strong connection and oh thanks but im not talented i began drawing when i wa in kindergarten and i wa awful xd it wa a long way to go but youre right practise is the key i should practise a little bit oh good that you mention him he wanted me to show him a pic anyways i hope hell see it now otherwise ill mention him again well i feel like im xd i suck at oh i can relate too good with you ive never been in a relationship because i never wanted to but i can still relate id never give up my freedom but being in a relationship doesnt mean that oh i do love drawing it so relaxing d im too lazy to scan any drawing up so here something digital xd nooo i cant live in a world without hug and my heart is warm and real not robotic at all promise run after you finding your balance is tricky i guess others might think it boring but i dont i mean being balanced being healthy and how can you act out your potential the best right if youre haha lol since is afraid of robot he wont eat me anymore p but probably he wont hug me either unsure xd try to hug back but ha no more arm blushed somehow i want to brush my teeth again mellow haha i love hugging nt for some reason xd and i also hug people out of joy i mean really if you ever tell me good news you should automatically prepare for a hug run nt run oh i just found something which might be very interesting for you there are just a couple of piece of advice i can give you to help you in your quest\"\n        ],\n        \"semantic_type\": \"\",\n        \"description\": \"\"\n      }\n    }\n  ]\n}"
            }
          },
          "metadata": {},
          "execution_count": 7
        }
      ]
    },
    {
      "cell_type": "markdown",
      "source": [
        "**Fitting the vectorizer and model, we'll use tf-idf, xgboost and catboost:**"
      ],
      "metadata": {
        "id": "Fr9K9OPECW7m"
      }
    },
    {
      "cell_type": "code",
      "source": [
        "def splitting_data(df: pd.DataFrame, column: str):\n",
        "    train_x, test_x, train_y, test_y = train_test_split(\n",
        "        data[column],\n",
        "        data[\"type\"],\n",
        "        train_size=0.8,\n",
        "        random_state=42\n",
        "    )\n",
        "    return train_x, test_x, train_y, test_y\n",
        "\n",
        "\n",
        "def pipelines():\n",
        "    pipeline_logreg = Pipeline([\n",
        "        ('tf-idf', TfidfVectorizer(stop_words='english')),\n",
        "        ('log-reg', LogisticRegression())\n",
        "    ])\n",
        "\n",
        "    pipeline_xgboost = Pipeline([\n",
        "        ('tf-idf', TfidfVectorizer(stop_words='english')),\n",
        "        (\n",
        "            'xgboost',\n",
        "            XGBClassifier(\n",
        "                max_depth=5,\n",
        "                n_estimators=50,\n",
        "                learning_rate=0.1\n",
        "            )\n",
        "        )\n",
        "    ])\n",
        "\n",
        "    pipeline_catboost = Pipeline([\n",
        "        ('tf-idf', TfidfVectorizer(stop_words='english')),\n",
        "        (\n",
        "            'catboost',\n",
        "            CatBoostClassifier(\n",
        "                loss_function='MultiClass',\n",
        "                eval_metric='MultiClass',\n",
        "                task_type='GPU',\n",
        "                verbose=False\n",
        "            )\n",
        "        )\n",
        "    ])\n",
        "\n",
        "    return pipeline_logreg, pipeline_xgboost, pipeline_catboost\n",
        "\n",
        "\n",
        "def pipeline_RandForestClassifier():\n",
        "    pipeline_forest = Pipeline([\n",
        "            ('tf-idf', TfidfVectorizer(stop_words='english')),\n",
        "            ('rfc', RandomForestClassifier())\n",
        "    ])\n",
        "    return pipeline_forest\n",
        "\n",
        "\n",
        "@ignore_warnings(category=ConvergenceWarning)\n",
        "def fitting(train_x, train_y):\n",
        "    pipeline_logreg, pipeline_xgboost, pipeline_catboost = pipelines()\n",
        "    pipeline_logreg.fit(train_x, train_y)\n",
        "    pipeline_xgboost.fit(train_x, train_y)\n",
        "    pipeline_catboost.fit(train_x, train_y)\n",
        "\n",
        "    return pipeline_logreg, pipeline_xgboost, pipeline_catboost\n"
      ],
      "metadata": {
        "id": "et6P897zPSCW"
      },
      "execution_count": 8,
      "outputs": []
    },
    {
      "cell_type": "markdown",
      "source": [
        "**Results:**"
      ],
      "metadata": {
        "id": "d808yc41G71M"
      }
    },
    {
      "cell_type": "code",
      "source": [
        "for column in columns:\n",
        "    train_x, test_x, train_y, test_y = splitting_data(data, column)\n",
        "\n",
        "    pipeline_logreg, pipeline_xgboost, pipeline_catboost = fitting(train_x, train_y)\n",
        "    cb = f1_score(test_y, pipeline_catboost.predict(test_x), average=\"weighted\")\n",
        "    xgb = f1_score(test_y, pipeline_xgboost.predict(test_x), average=\"weighted\")\n",
        "    logreg = f1_score(test_y, pipeline_logreg.predict(test_x), average=\"weighted\")\n",
        "\n",
        "    info_str = \"stemming\" if column == \"posts\" else \"lemmatization\"\n",
        "\n",
        "    print(f\"catboost f1_score({info_str}): {cb:.3f}\")\n",
        "    print(f\"xgboost  f1_score({info_str}): {xgb:.3f}\")\n",
        "    print(f\"logistic regression f1_score({info_str}): {logreg:.3f}\\n\")"
      ],
      "metadata": {
        "id": "NB9ahmEiSt6F",
        "colab": {
          "base_uri": "https://localhost:8080/"
        },
        "outputId": "e2393ed8-7caf-4804-c3f9-98b77e2f69ca"
      },
      "execution_count": 9,
      "outputs": [
        {
          "output_type": "stream",
          "name": "stdout",
          "text": [
            "catboost f1_score(lemmatization): 0.671\n",
            "xgboost  f1_score(lemmatization): 0.664\n",
            "logistic regression f1_score(lemmatization): 0.621\n",
            "\n",
            "catboost f1_score(stemming): 0.676\n",
            "xgboost  f1_score(stemming): 0.671\n",
            "logistic regression f1_score(stemming): 0.645\n",
            "\n"
          ]
        }
      ]
    },
    {
      "cell_type": "markdown",
      "source": [
        "As we can see, results with stemmer are better"
      ],
      "metadata": {
        "id": "rvVpvXezL1hf"
      }
    },
    {
      "cell_type": "markdown",
      "source": [
        "**Let's try GridSearch on RandomForest:**"
      ],
      "metadata": {
        "id": "LMBtJfLM6i9r"
      }
    },
    {
      "cell_type": "code",
      "source": [
        "RFC = pipeline_RandForestClassifier()\n",
        "\n",
        "param_grid = {\n",
        "    'rfc__n_estimators': [100, 150],\n",
        "    'rfc__max_depth': [5, 10, 15],\n",
        "    'rfc__min_samples_split': [5, 10]\n",
        "}\n",
        "\n",
        "grid_search = GridSearchCV(estimator=RFC, param_grid=param_grid, cv=5, error_score='raise')\n",
        "train_x, test_x, train_y, test_y = splitting_data(data, \"posts\")\n",
        "grid_search.fit(train_x, train_y)\n",
        "\n",
        "print(f\"Best parameters: {grid_search.best_params_}\\nBest score: {grid_search.best_score_}\")"
      ],
      "metadata": {
        "id": "JV7ahWbv6qSi",
        "colab": {
          "base_uri": "https://localhost:8080/"
        },
        "outputId": "08a84b7b-3f43-456e-ce3b-f9550094a195"
      },
      "execution_count": 10,
      "outputs": [
        {
          "output_type": "stream",
          "name": "stdout",
          "text": [
            "Best parameters: {'rfc__max_depth': 15, 'rfc__min_samples_split': 5, 'rfc__n_estimators': 100}\n",
            "Best score: 0.42825754240892744\n"
          ]
        }
      ]
    },
    {
      "cell_type": "markdown",
      "source": [
        "**Saving best model and vocabulary:**"
      ],
      "metadata": {
        "id": "vV7i2-l3MbBF"
      }
    },
    {
      "cell_type": "code",
      "source": [
        "# dumping vocabulary\n",
        "\n",
        "\n",
        "with open(\"bot/compiled/new_vocab.txt\", \"w\") as outfile:\n",
        "    outfile.write(\"\\n\".join(new_vocab))\n",
        "\n",
        "\n",
        "# dumping pipeline\n",
        "filename = 'bot/compiled/finalized_model.pkl'\n",
        "pickle.dump(pipeline_catboost, open(filename, 'wb'))"
      ],
      "metadata": {
        "id": "cVtRG89EMeWa"
      },
      "execution_count": 14,
      "outputs": []
    },
    {
      "cell_type": "markdown",
      "source": [
        "Making confusion matrix for best model (catboost with stemmer)"
      ],
      "metadata": {
        "id": "erHL4AyZYGLw"
      }
    },
    {
      "cell_type": "code",
      "source": [
        "pred_y = pipeline_catboost.predict(test_x)\n",
        "\n",
        "cb = f1_score(test_y, pred_y, average=\"weighted\")"
      ],
      "metadata": {
        "id": "Qm2VTTf0Wsgy"
      },
      "execution_count": 19,
      "outputs": []
    },
    {
      "cell_type": "code",
      "source": [
        "def generate_confusion_matrix(matrix):\n",
        "    matrix = matrix.astype('float')\n",
        "\n",
        "    sns.set(rc={'figure.figsize': (11, 11)})\n",
        "    figure = sns.heatmap(\n",
        "        matrix,\n",
        "        annot=True,\n",
        "        cmap='Greens',\n",
        "        fmt='.0f',\n",
        "        annot_kws={\"size\": 7}\n",
        "    )\n",
        "\n",
        "    figure.tick_params(labelsize=7)\n",
        "\n",
        "    plt.xlabel('Predicted', fontsize=7)\n",
        "    plt.ylabel('True', fontsize=7)\n",
        "    plt.title('Confusion Matrix', fontsize=7)\n",
        "    plt.show()\n",
        "\n",
        "\n",
        "df_confusion = confusion_matrix(test_y, pred_y)\n",
        "generate_confusion_matrix(df_confusion)\n"
      ],
      "metadata": {
        "id": "o83nfTH6Y-Z6",
        "outputId": "28822c17-546e-4600-ad57-5bfbbf2f3532",
        "colab": {
          "base_uri": "https://localhost:8080/",
          "height": 939
        }
      },
      "execution_count": 20,
      "outputs": [
        {
          "output_type": "display_data",
          "data": {
            "text/plain": [
              "<Figure size 1100x1100 with 2 Axes>"
            ],
            "image/png": "[encoded data removed]"
          },
          "metadata": {}
        }
      ]
    },
    {
      "cell_type": "code",
      "source": [
        "reverse_mbti_map[2], reverse_mbti_map[8]"
      ],
      "metadata": {
        "id": "9g8tADuZZ3H6",
        "outputId": "43205fd4-65ee-43eb-d00c-86858fc74233",
        "colab": {
          "base_uri": "https://localhost:8080/"
        }
      },
      "execution_count": 27,
      "outputs": [
        {
          "output_type": "execute_result",
          "data": {
            "text/plain": [
              "('INFJ', 'ESTP')"
            ]
          },
          "metadata": {},
          "execution_count": 27
        }
      ]
    },
    {
      "cell_type": "markdown",
      "source": [
        "the model is most often confused in INFJ and ESTP"
      ],
      "metadata": {
        "id": "yH2d-6QIar-r"
      }
    },
    {
      "cell_type": "markdown",
      "source": [
        "Lets gridsearch catboost with stemmer to achive better result"
      ],
      "metadata": {
        "id": "sBALQWJTbT_f"
      }
    },
    {
      "cell_type": "code",
      "source": [
        "pipeline_catboost = Pipeline([\n",
        "    ('tf-idf', TfidfVectorizer(stop_words='english')),\n",
        "    (\n",
        "        'catboost',\n",
        "        CatBoostClassifier(\n",
        "            loss_function='MultiClass',\n",
        "            eval_metric='MultiClass',\n",
        "            task_type='GPU',\n",
        "            verbose=False,\n",
        "            custom_metric='F1'\n",
        "        )\n",
        "    )\n",
        "])\n",
        "\n",
        "\n",
        "train_x, test_x, train_y, test_y = splitting_data(data, 'posts')\n",
        "\n",
        "parameters = {\n",
        "    'catboost__depth'         : [4,6,8,10],\n",
        "    'catboost__learning_rate' : [0.01,0.03,0.04],\n",
        "    'catboost__iterations'    : [10,30,50,70,90,100]\n",
        "}\n",
        "\n",
        "Grid_CBC = GridSearchCV(\n",
        "    estimator=pipeline_catboost,\n",
        "    param_grid=parameters,\n",
        "    cv=2,\n",
        "    n_jobs=-1\n",
        ")\n",
        "\n",
        "Grid_CBC.fit(train_x, train_y)"
      ],
      "metadata": {
        "id": "vswiBmRPa7ys"
      },
      "execution_count": null,
      "outputs": []
    }
  ]
}
